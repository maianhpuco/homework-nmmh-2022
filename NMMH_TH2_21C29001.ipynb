{
  "nbformat": 4,
  "nbformat_minor": 0,
  "metadata": {
    "colab": {
      "name": "NMMH_TH2_21C29001.ipynb",
      "provenance": [],
      "collapsed_sections": [],
      "toc_visible": true
    },
    "kernelspec": {
      "name": "python3",
      "display_name": "Python 3"
    },
    "language_info": {
      "name": "python"
    }
  },
  "cells": [
    {
      "cell_type": "code",
      "execution_count": 376,
      "metadata": {
        "id": "vdqL7cFqdNlR"
      },
      "outputs": [],
      "source": [
        "import pandas as pd\n",
        "import numpy as np\n",
        "import random"
      ]
    },
    {
      "cell_type": "code",
      "source": [
        "!gdown --id 1xmaX9QHTWnKe58oIMT1ohnhPLU15WQ2O"
      ],
      "metadata": {
        "id": "qYLuWUSegTTl",
        "colab": {
          "base_uri": "https://localhost:8080/"
        },
        "outputId": "835556a1-9ca4-4e84-90a2-20142a11e777"
      },
      "execution_count": 377,
      "outputs": [
        {
          "output_type": "stream",
          "name": "stdout",
          "text": [
            "/usr/local/lib/python3.7/dist-packages/gdown/cli.py:131: FutureWarning: Option `--id` was deprecated in version 4.3.1 and will be removed in 5.0. You don't need to pass it anymore to use a file ID.\n",
            "  category=FutureWarning,\n",
            "Downloading...\n",
            "From: https://drive.google.com/uc?id=1xmaX9QHTWnKe58oIMT1ohnhPLU15WQ2O\n",
            "To: /content/House_Price_2.csv\n",
            "100% 2.46k/2.46k [00:00<00:00, 3.68MB/s]\n"
          ]
        }
      ]
    },
    {
      "cell_type": "code",
      "source": [
        "df = pd.read_csv(\"House_Price_2.csv\")\n",
        "df.tail(5)"
      ],
      "metadata": {
        "colab": {
          "base_uri": "https://localhost:8080/",
          "height": 206
        },
        "id": "iBrD3b2M3wHb",
        "outputId": "bb99e188-9822-4c6b-f04d-1e41347dfd8c"
      },
      "execution_count": 378,
      "outputs": [
        {
          "output_type": "execute_result",
          "data": {
            "text/plain": [
              "    width  length         price\n",
              "95     23      94  3.055955e+08\n",
              "96     10      69  1.890808e+08\n",
              "97     11      35  1.305380e+08\n",
              "98      8      66  1.701948e+08\n",
              "99     18      28  1.455254e+08"
            ],
            "text/html": [
              "\n",
              "  <div id=\"df-8da61e5d-bf1c-4b81-ba38-a4c24dad5b26\">\n",
              "    <div class=\"colab-df-container\">\n",
              "      <div>\n",
              "<style scoped>\n",
              "    .dataframe tbody tr th:only-of-type {\n",
              "        vertical-align: middle;\n",
              "    }\n",
              "\n",
              "    .dataframe tbody tr th {\n",
              "        vertical-align: top;\n",
              "    }\n",
              "\n",
              "    .dataframe thead th {\n",
              "        text-align: right;\n",
              "    }\n",
              "</style>\n",
              "<table border=\"1\" class=\"dataframe\">\n",
              "  <thead>\n",
              "    <tr style=\"text-align: right;\">\n",
              "      <th></th>\n",
              "      <th>width</th>\n",
              "      <th>length</th>\n",
              "      <th>price</th>\n",
              "    </tr>\n",
              "  </thead>\n",
              "  <tbody>\n",
              "    <tr>\n",
              "      <th>95</th>\n",
              "      <td>23</td>\n",
              "      <td>94</td>\n",
              "      <td>3.055955e+08</td>\n",
              "    </tr>\n",
              "    <tr>\n",
              "      <th>96</th>\n",
              "      <td>10</td>\n",
              "      <td>69</td>\n",
              "      <td>1.890808e+08</td>\n",
              "    </tr>\n",
              "    <tr>\n",
              "      <th>97</th>\n",
              "      <td>11</td>\n",
              "      <td>35</td>\n",
              "      <td>1.305380e+08</td>\n",
              "    </tr>\n",
              "    <tr>\n",
              "      <th>98</th>\n",
              "      <td>8</td>\n",
              "      <td>66</td>\n",
              "      <td>1.701948e+08</td>\n",
              "    </tr>\n",
              "    <tr>\n",
              "      <th>99</th>\n",
              "      <td>18</td>\n",
              "      <td>28</td>\n",
              "      <td>1.455254e+08</td>\n",
              "    </tr>\n",
              "  </tbody>\n",
              "</table>\n",
              "</div>\n",
              "      <button class=\"colab-df-convert\" onclick=\"convertToInteractive('df-8da61e5d-bf1c-4b81-ba38-a4c24dad5b26')\"\n",
              "              title=\"Convert this dataframe to an interactive table.\"\n",
              "              style=\"display:none;\">\n",
              "        \n",
              "  <svg xmlns=\"http://www.w3.org/2000/svg\" height=\"24px\"viewBox=\"0 0 24 24\"\n",
              "       width=\"24px\">\n",
              "    <path d=\"M0 0h24v24H0V0z\" fill=\"none\"/>\n",
              "    <path d=\"M18.56 5.44l.94 2.06.94-2.06 2.06-.94-2.06-.94-.94-2.06-.94 2.06-2.06.94zm-11 1L8.5 8.5l.94-2.06 2.06-.94-2.06-.94L8.5 2.5l-.94 2.06-2.06.94zm10 10l.94 2.06.94-2.06 2.06-.94-2.06-.94-.94-2.06-.94 2.06-2.06.94z\"/><path d=\"M17.41 7.96l-1.37-1.37c-.4-.4-.92-.59-1.43-.59-.52 0-1.04.2-1.43.59L10.3 9.45l-7.72 7.72c-.78.78-.78 2.05 0 2.83L4 21.41c.39.39.9.59 1.41.59.51 0 1.02-.2 1.41-.59l7.78-7.78 2.81-2.81c.8-.78.8-2.07 0-2.86zM5.41 20L4 18.59l7.72-7.72 1.47 1.35L5.41 20z\"/>\n",
              "  </svg>\n",
              "      </button>\n",
              "      \n",
              "  <style>\n",
              "    .colab-df-container {\n",
              "      display:flex;\n",
              "      flex-wrap:wrap;\n",
              "      gap: 12px;\n",
              "    }\n",
              "\n",
              "    .colab-df-convert {\n",
              "      background-color: #E8F0FE;\n",
              "      border: none;\n",
              "      border-radius: 50%;\n",
              "      cursor: pointer;\n",
              "      display: none;\n",
              "      fill: #1967D2;\n",
              "      height: 32px;\n",
              "      padding: 0 0 0 0;\n",
              "      width: 32px;\n",
              "    }\n",
              "\n",
              "    .colab-df-convert:hover {\n",
              "      background-color: #E2EBFA;\n",
              "      box-shadow: 0px 1px 2px rgba(60, 64, 67, 0.3), 0px 1px 3px 1px rgba(60, 64, 67, 0.15);\n",
              "      fill: #174EA6;\n",
              "    }\n",
              "\n",
              "    [theme=dark] .colab-df-convert {\n",
              "      background-color: #3B4455;\n",
              "      fill: #D2E3FC;\n",
              "    }\n",
              "\n",
              "    [theme=dark] .colab-df-convert:hover {\n",
              "      background-color: #434B5C;\n",
              "      box-shadow: 0px 1px 3px 1px rgba(0, 0, 0, 0.15);\n",
              "      filter: drop-shadow(0px 1px 2px rgba(0, 0, 0, 0.3));\n",
              "      fill: #FFFFFF;\n",
              "    }\n",
              "  </style>\n",
              "\n",
              "      <script>\n",
              "        const buttonEl =\n",
              "          document.querySelector('#df-8da61e5d-bf1c-4b81-ba38-a4c24dad5b26 button.colab-df-convert');\n",
              "        buttonEl.style.display =\n",
              "          google.colab.kernel.accessAllowed ? 'block' : 'none';\n",
              "\n",
              "        async function convertToInteractive(key) {\n",
              "          const element = document.querySelector('#df-8da61e5d-bf1c-4b81-ba38-a4c24dad5b26');\n",
              "          const dataTable =\n",
              "            await google.colab.kernel.invokeFunction('convertToInteractive',\n",
              "                                                     [key], {});\n",
              "          if (!dataTable) return;\n",
              "\n",
              "          const docLinkHtml = 'Like what you see? Visit the ' +\n",
              "            '<a target=\"_blank\" href=https://colab.research.google.com/notebooks/data_table.ipynb>data table notebook</a>'\n",
              "            + ' to learn more about interactive tables.';\n",
              "          element.innerHTML = '';\n",
              "          dataTable['output_type'] = 'display_data';\n",
              "          await google.colab.output.renderOutput(dataTable, element);\n",
              "          const docLink = document.createElement('div');\n",
              "          docLink.innerHTML = docLinkHtml;\n",
              "          element.appendChild(docLink);\n",
              "        }\n",
              "      </script>\n",
              "    </div>\n",
              "  </div>\n",
              "  "
            ]
          },
          "metadata": {},
          "execution_count": 378
        }
      ]
    },
    {
      "cell_type": "code",
      "source": [
        "random.seed(1)"
      ],
      "metadata": {
        "id": "2rESGcwMh3D0"
      },
      "execution_count": 379,
      "outputs": []
    },
    {
      "cell_type": "code",
      "source": [
        "#define predictors and label variable\n",
        "train_variable=['width', 'length']\n",
        "target_variable='price'\n",
        "X=df[train_variable].values\n",
        "y=df[target_variable].values.reshape(-1, 1)"
      ],
      "metadata": {
        "id": "-UjU-GQlgVom"
      },
      "execution_count": 380,
      "outputs": []
    },
    {
      "cell_type": "markdown",
      "source": [
        "## Gradient Descent Function"
      ],
      "metadata": {
        "id": "-gnbFTw4qx3s"
      }
    },
    {
      "cell_type": "code",
      "source": [
        "def initialize_parameters(X):\n",
        "  number_of_param=X.shape[1]\n",
        "  W=np.random.rand(number_of_param,1)\n",
        "  b=np.array(random.randint(1, 200))\n",
        "  return W, b\n",
        "\n",
        "def forward_propergate(W, b, X, y):\n",
        "  y_hat=np.dot(X, W) + b # W.shape=(param, 1) X.shape=(m, params)\n",
        "  return y_hat \n",
        "\n",
        "def cost(y_hat, y):\n",
        "  return np.mean(np.square(y_hat-y)) \n",
        "  \n",
        "def backward_propergate(W, b, y_hat, y):\n",
        "  m = X.shape[0]\n",
        "  dW=(-2/m) * np.dot(X.T, y-y_hat) #X.shape=(m, param) , error.shape=(m, 1) \n",
        "  db=(-2/m) * np.sum(y-y_hat)\n",
        "  return dW, db \n",
        "\n",
        "def update_params(W, b, dW, db, learning_rate):\n",
        "  W=W-learning_rate*dW\n",
        "  b=b-learning_rate*db\n",
        "  return W, b "
      ],
      "metadata": {
        "id": "2XyCOiARgqEZ"
      },
      "execution_count": 381,
      "outputs": []
    },
    {
      "cell_type": "code",
      "source": [
        "def gradient_descent_linear_regression(\n",
        "    X, \n",
        "    y, \n",
        "    iterations=10000, \n",
        "    learning_rate=0.0000001, \n",
        "    print_cost=True):\n",
        "  W, b=initialize_parameters(X) \n",
        "  for i in range(0, iterations):\n",
        "    y_hat=forward_propergate(W, b, X, y) \n",
        "    loss=cost(y_hat, y)\n",
        "    if i % 10000==0 and print_cost==True:\n",
        "      print(\"Loss at iteration {} : {} \".format(i, loss))\n",
        "    dW, db = backward_propergate(W, b, y_hat, y) \n",
        "    W,b = update_params(W, b, dW, db, learning_rate)\n",
        "  params={\n",
        "      \"W\":W, \n",
        "      \"b\":b\n",
        "  }\n",
        "  final_loss=loss\n",
        "  return params, final_loss"
      ],
      "metadata": {
        "id": "3LyP45lBlv_9"
      },
      "execution_count": 382,
      "outputs": []
    },
    {
      "cell_type": "markdown",
      "source": [
        "## Chạy mô hình"
      ],
      "metadata": {
        "id": "K6F7t9wrmfqA"
      }
    },
    {
      "cell_type": "markdown",
      "source": [
        "##### **a. Gradient Descent**"
      ],
      "metadata": {
        "id": "35Dct_oBmj5P"
      }
    },
    {
      "cell_type": "markdown",
      "source": [
        "- Đối với learning rate, ta thử các giá trị lớn nhất, sau đó giảm dần, bắt đầu từ learning_rate=0.0001 "
      ],
      "metadata": {
        "id": "krjy0L3Otcbk"
      }
    },
    {
      "cell_type": "markdown",
      "source": [
        "**Chọn Learning rate**"
      ],
      "metadata": {
        "id": "bUAMKIs05Rit"
      }
    },
    {
      "cell_type": "markdown",
      "source": [
        "- learning_rate=0.0001"
      ],
      "metadata": {
        "id": "-oNtZlROth3E"
      }
    },
    {
      "cell_type": "code",
      "source": [
        "params, loss=gradient_descent_linear_regression(\n",
        "    X, \n",
        "    y, \n",
        "    iterations=10000, \n",
        "    learning_rate=0.0001, \n",
        "    print_cost=True)"
      ],
      "metadata": {
        "colab": {
          "base_uri": "https://localhost:8080/"
        },
        "id": "xQcdoUm6r3n-",
        "outputId": "870a8fe4-40f2-43bc-b6c8-b06a0849e286"
      },
      "execution_count": 385,
      "outputs": [
        {
          "output_type": "stream",
          "name": "stdout",
          "text": [
            "Loss at iteration 0 : 4.5991796816728824e+16 \n"
          ]
        }
      ]
    },
    {
      "cell_type": "markdown",
      "source": [
        "- learning_rate=0.00001"
      ],
      "metadata": {
        "id": "WuC_jZmEtnzA"
      }
    },
    {
      "cell_type": "code",
      "source": [
        "params, loss=gradient_descent_linear_regression(\n",
        "    X, \n",
        "    y, \n",
        "    iterations=10000, \n",
        "    learning_rate=0.00001, \n",
        "    print_cost=False)\n",
        "print(params, loss) "
      ],
      "metadata": {
        "colab": {
          "base_uri": "https://localhost:8080/"
        },
        "id": "hgUOCybc0N1M",
        "outputId": "6ef77920-d58d-48ed-a931-22267e8bb5e2"
      },
      "execution_count": 386,
      "outputs": [
        {
          "output_type": "stream",
          "name": "stdout",
          "text": [
            "{'W': array([[5008428.18190986],\n",
            "       [2003719.05568626]]), 'b': 144686.97027526825} 8673328575084.305\n"
          ]
        }
      ]
    },
    {
      "cell_type": "markdown",
      "source": [
        "- learning_rate=0.000001"
      ],
      "metadata": {
        "id": "45p4DYtwwHak"
      }
    },
    {
      "cell_type": "code",
      "source": [
        "params, loss=gradient_descent_linear_regression(\n",
        "    X, \n",
        "    y, \n",
        "    iterations=10000, \n",
        "    learning_rate=0.000001, \n",
        "    print_cost=False)\n",
        "print(params, loss) "
      ],
      "metadata": {
        "colab": {
          "base_uri": "https://localhost:8080/"
        },
        "id": "OOzpGkMktaNE",
        "outputId": "483d4470-ca0e-405f-c77f-ae410dd96fac"
      },
      "execution_count": 387,
      "outputs": [
        {
          "output_type": "stream",
          "name": "stdout",
          "text": [
            "{'W': array([[3861267.8132835 ],\n",
            "       [2303232.33015312]]), 'b': 109749.5733665721} 99975308469450.55\n"
          ]
        }
      ]
    },
    {
      "cell_type": "markdown",
      "source": [
        "*Ta chọn learning rate bằng learning_rate=0.00001*"
      ],
      "metadata": {
        "id": "8RpA-2-Dtx4Z"
      }
    },
    {
      "cell_type": "markdown",
      "source": [
        "**Chọn số vòng lặp**"
      ],
      "metadata": {
        "id": "r0x4QbAM5VD8"
      }
    },
    {
      "cell_type": "markdown",
      "source": [
        "- Ta tăng số vòng lặp lên dần từ 10000"
      ],
      "metadata": {
        "id": "e1mjKwzPt_zq"
      }
    },
    {
      "cell_type": "code",
      "source": [
        "params, loss=gradient_descent_linear_regression(\n",
        "    X, \n",
        "    y, \n",
        "    iterations=100000, \n",
        "    learning_rate=0.00001, \n",
        "    print_cost=False)\n",
        "print(params, loss)"
      ],
      "metadata": {
        "colab": {
          "base_uri": "https://localhost:8080/"
        },
        "id": "mXBXg7KmpyzJ",
        "outputId": "ea79f057-bb45-437a-ccc0-82f4bfbb2996"
      },
      "execution_count": 388,
      "outputs": [
        {
          "output_type": "stream",
          "name": "stdout",
          "text": [
            "{'W': array([[5006052.36824459],\n",
            "       [2002801.14792364]]), 'b': 249103.21205088263} 8661182313304.617\n"
          ]
        }
      ]
    },
    {
      "cell_type": "code",
      "source": [
        "params, loss=gradient_descent_linear_regression(\n",
        "    X, \n",
        "    y, \n",
        "    iterations=1000000, \n",
        "    learning_rate=0.00001, \n",
        "    print_cost=False)\n",
        "print(params, loss)"
      ],
      "metadata": {
        "colab": {
          "base_uri": "https://localhost:8080/"
        },
        "id": "9lhNGcIB1hZs",
        "outputId": "7ae397f7-58cf-43e8-ace9-647f514b3dc6"
      },
      "execution_count": 389,
      "outputs": [
        {
          "output_type": "stream",
          "name": "stdout",
          "text": [
            "{'W': array([[4995147.66368495],\n",
            "       [1998616.58188949]]), 'b': 726423.9641676822} 8630577260027.697\n"
          ]
        }
      ]
    },
    {
      "cell_type": "markdown",
      "source": [
        "Ta thấy sau vòng lặp thứ 10.000 thì số Loss giảm rất chậm, Ta chọn iterations=100000 (vì chạy không quá lâu)  "
      ],
      "metadata": {
        "id": "XaI3T37-roIC"
      }
    },
    {
      "cell_type": "markdown",
      "source": [
        "##### b. Ta standardize input trước khi cho vào mô hình: "
      ],
      "metadata": {
        "id": "FSJVPzFvu01t"
      }
    },
    {
      "cell_type": "code",
      "source": [
        "def standardization(X):\n",
        "  X_new = np.zeros((X.shape[0], X.shape[1]))\n",
        "  for i in range(0, X.shape[1]):\n",
        "    X_new[:, i]=(X[:, i]-np.mean(X[:, i]))/np.std(X[:, i])\n",
        "  return X_new"
      ],
      "metadata": {
        "id": "icBEoFtPoY9u"
      },
      "execution_count": 390,
      "outputs": []
    },
    {
      "cell_type": "code",
      "source": [
        "X_standardized=standardization(X) \n",
        "params_input_normed, loss_input_normed=gradient_descent_linear_regression(\n",
        "    X_standardized, \n",
        "    y, \n",
        "    iterations=100000, \n",
        "    learning_rate=0.00001, \n",
        "    print_cost=False)\n",
        "print(params_input_normed, loss_input_normed)"
      ],
      "metadata": {
        "colab": {
          "base_uri": "https://localhost:8080/"
        },
        "id": "x6DRLrFmpYtV",
        "outputId": "77ddb60e-3a9d-475f-902a-95a3c2c20902"
      },
      "execution_count": 391,
      "outputs": [
        {
          "output_type": "stream",
          "name": "stdout",
          "text": [
            "{'W': array([[9.47972791e+07],\n",
            "       [1.07607201e+08]]), 'b': 176964866.11795855} 9789494367358078.0\n"
          ]
        }
      ]
    },
    {
      "cell_type": "markdown",
      "source": [
        "Cùng số vòng lặp và learning rate nhưng loss không tốt hơn sau khi standardise nên ta vẫn giữ phương án ban đầu với: \n",
        "- iterations=100000, \n",
        "- learning_rate=0.00001,  "
      ],
      "metadata": {
        "id": "va9dPxJ0vXM_"
      }
    },
    {
      "cell_type": "markdown",
      "source": [
        "#### c. So sánh các phương pháp khác: "
      ],
      "metadata": {
        "id": "BcT15_c4v3U6"
      }
    },
    {
      "cell_type": "markdown",
      "source": [
        "- Dùng gradient Descent: "
      ],
      "metadata": {
        "id": "7OrLYtZdzKG9"
      }
    },
    {
      "cell_type": "code",
      "source": [
        "params, loss=gradient_descent_linear_regression(\n",
        "    X, \n",
        "    y, \n",
        "    iterations=1000000, \n",
        "    learning_rate=0.00001, \n",
        "    print_cost=False)\n",
        "print(params, loss)"
      ],
      "metadata": {
        "colab": {
          "base_uri": "https://localhost:8080/"
        },
        "id": "88B-yGhizOgB",
        "outputId": "9b048c98-9b89-4ffe-eb1b-55fc286511dc"
      },
      "execution_count": 392,
      "outputs": [
        {
          "output_type": "stream",
          "name": "stdout",
          "text": [
            "{'W': array([[4995147.70537699],\n",
            "       [1998616.59788837]]), 'b': 726422.1392237971} 8630577298866.36\n"
          ]
        }
      ]
    },
    {
      "cell_type": "code",
      "source": [
        "W_grads=params.get(\"W\")\n",
        "b_grads=params.get(\"b\")\n",
        "print(\"W = {}, b = {}\".format(W_grads, b_grads))  "
      ],
      "metadata": {
        "colab": {
          "base_uri": "https://localhost:8080/"
        },
        "id": "p4Va2QFmzStl",
        "outputId": "7de16746-28dd-4c08-97a8-26b8fde59aa1"
      },
      "execution_count": 393,
      "outputs": [
        {
          "output_type": "stream",
          "name": "stdout",
          "text": [
            "W = [[4995147.70537699]\n",
            " [1998616.59788837]], b = 726422.1392237971\n"
          ]
        }
      ]
    },
    {
      "cell_type": "markdown",
      "source": [
        "- Dùng công thức"
      ],
      "metadata": {
        "id": "6HmUTo-ow5NY"
      }
    },
    {
      "cell_type": "code",
      "source": [
        "def closed_form_params(X, y):\n",
        "  '''\n",
        "  input: X, y\n",
        "  output: W (parameters of linear function) with shape (1, number of parameters)\n",
        "  ''' \n",
        "  sample_size=X.shape[0] \n",
        "  Z = np.concatenate([X, np.ones((sample_size,1))], axis=-1)\n",
        "  W_b=np.matmul(np.matmul(\n",
        "                      np.linalg.inv(np.matmul(Z.T,Z)), Z.T\n",
        "                      ),\n",
        "               y).reshape(1, -1)\n",
        "  assert (W_b.shape == (1, X.shape[1]+1)) \n",
        "  W=W_b[:, 0:X.shape[1]].reshape(-1,1)\n",
        "  b=W_b[:, -1][0]\n",
        "  return W, b\n",
        "   "
      ],
      "metadata": {
        "id": "y7ZIQrjehpXR"
      },
      "execution_count": 394,
      "outputs": []
    },
    {
      "cell_type": "code",
      "source": [
        "W_closed_form, b_closed_form =closed_form_params(X, y) \n",
        "print(\"W = {}, b = {}\".format(W_closed_form, b_closed_form)) "
      ],
      "metadata": {
        "colab": {
          "base_uri": "https://localhost:8080/"
        },
        "id": "1n8HWPePx4jS",
        "outputId": "28bf8247-a2c7-47b8-d296-6436c111574f"
      },
      "execution_count": 395,
      "outputs": [
        {
          "output_type": "stream",
          "name": "stdout",
          "text": [
            "W = [[4992438.83485118]\n",
            " [1997577.09722778]], b = 844994.8258748334\n"
          ]
        }
      ]
    },
    {
      "cell_type": "markdown",
      "source": [
        "- SKlearn"
      ],
      "metadata": {
        "id": "JzvaDzh_w8lI"
      }
    },
    {
      "cell_type": "code",
      "source": [
        "## SkLearn\n",
        "from sklearn.linear_model import LinearRegression\n",
        "lr = LinearRegression().fit(X, y)                ## train LinearRegression \n",
        "W_sklearn, b_sklearn = lr.coef_.reshape(-1,1), lr.intercept_[0]  ## lấy các tham số học được\n",
        "print(\"W = {}, b = {}\".format(W_sklearn, b_sklearn))"
      ],
      "metadata": {
        "colab": {
          "base_uri": "https://localhost:8080/"
        },
        "id": "eUJ8Tpt0xBMr",
        "outputId": "a277a5b6-7fb5-46de-ce5a-24158056b963"
      },
      "execution_count": 396,
      "outputs": [
        {
          "output_type": "stream",
          "name": "stdout",
          "text": [
            "W = [[4992438.83485116]\n",
            " [1997577.09722778]], b = 844994.8258749545\n"
          ]
        }
      ]
    },
    {
      "cell_type": "markdown",
      "source": [
        "**So sánh MSE các phương pháp:**"
      ],
      "metadata": {
        "id": "73R6SkbDwlvS"
      }
    },
    {
      "cell_type": "code",
      "source": [
        "def mean_square_error(X, y, W, b):\n",
        "  y_hat=np.dot(X, W) + b\n",
        "  error=y-y_hat\n",
        "  return np.mean(np.square(error))"
      ],
      "metadata": {
        "id": "FRE5drvVjZJj"
      },
      "execution_count": 397,
      "outputs": []
    },
    {
      "cell_type": "code",
      "source": [
        "print(\"MSE Gradient Descent:\", mean_square_error(X, y, W_grads, b_grads)) \n",
        "print(\"MSE Closed Form     :\", mean_square_error(X, y, W_closed_form, b_closed_form)) \n",
        "print(\"MSE Sklearn.        :\", mean_square_error(X, y, W_sklearn, b_sklearn)) "
      ],
      "metadata": {
        "colab": {
          "base_uri": "https://localhost:8080/"
        },
        "id": "v_tPTNZxk1zo",
        "outputId": "5f04fe5c-4860-4a23-df83-cbb05fd13006"
      },
      "execution_count": 398,
      "outputs": [
        {
          "output_type": "stream",
          "name": "stdout",
          "text": [
            "MSE Gradient Descent: 8630577294339.747\n",
            "MSE Closed Form     : 8629315550589.733\n",
            "MSE Sklearn.        : 8629315550589.731\n"
          ]
        }
      ]
    }
  ]
}