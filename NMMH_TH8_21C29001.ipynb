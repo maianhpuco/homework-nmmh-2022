{
 "cells": [
  {
   "cell_type": "code",
   "execution_count": 1,
   "id": "8b96f5e2",
   "metadata": {
    "id": "aaedcf9d"
   },
   "outputs": [],
   "source": [
    "import tensorflow as tf\n",
    "import keras \n",
    "import numpy as np\n",
    "import matplotlib.pyplot as plt\n",
    "from keras import layers\n",
    "from keras.layers import (\n",
    "    Reshape, Input, Dense, Flatten, Conv2D, MaxPooling2D, BatchNormalization)\n",
    "from keras.models import Model , Sequential"
   ]
  },
  {
   "cell_type": "code",
   "execution_count": 2,
   "id": "54323451",
   "metadata": {
    "id": "699e4c5e"
   },
   "outputs": [],
   "source": [
    "from sklearn.model_selection import train_test_split"
   ]
  },
  {
   "cell_type": "code",
   "execution_count": 3,
   "id": "e27497a4",
   "metadata": {
    "colab": {
     "base_uri": "https://localhost:8080/",
     "height": 35
    },
    "id": "a293c860",
    "outputId": "7bf7bc26-6499-4fb9-e56d-6ad39a1c4737"
   },
   "outputs": [
    {
     "data": {
      "application/vnd.google.colaboratory.intrinsic+json": {
       "type": "string"
      },
      "text/plain": [
       "'2.8.0'"
      ]
     },
     "execution_count": 3,
     "metadata": {},
     "output_type": "execute_result"
    }
   ],
   "source": [
    "keras.__version__"
   ]
  },
  {
   "cell_type": "markdown",
   "id": "a27c1e09",
   "metadata": {
    "id": "QsR3zWqjmH6f"
   },
   "source": []
  },
  {
   "cell_type": "markdown",
   "id": "f22c449f",
   "metadata": {
    "id": "c2845d82"
   },
   "source": [
    "### Pre-processing"
   ]
  },
  {
   "cell_type": "code",
   "execution_count": 4,
   "id": "4bb8f98e",
   "metadata": {
    "id": "5bd92b7c"
   },
   "outputs": [],
   "source": [
    "(X_train_ori, y_train_ori), (X_test_ori, y_test_ori)=tf.keras.datasets.mnist.load_data()"
   ]
  },
  {
   "cell_type": "code",
   "execution_count": 5,
   "id": "bef2c5e6",
   "metadata": {
    "colab": {
     "base_uri": "https://localhost:8080/"
    },
    "id": "ef03d0ef",
    "outputId": "3e81d4b4-da78-4fef-f637-24f4f8840579"
   },
   "outputs": [
    {
     "name": "stdout",
     "output_type": "stream",
     "text": [
      "X_train's shape (60000, 28, 28), X_test's shape (10000, 28, 28)\n"
     ]
    }
   ],
   "source": [
    "X_train_norm, X_test_norm= X_train_ori/255.0 , X_test_ori/255.0\n",
    "print(\"X_train's shape {}, X_test's shape {}\".format(\n",
    "    X_train_norm.shape, X_test_ori.shape))"
   ]
  },
  {
   "cell_type": "markdown",
   "id": "650c62dc",
   "metadata": {
    "id": "c1993c65"
   },
   "source": [
    "Xem một ảnh trong dataset: "
   ]
  },
  {
   "cell_type": "code",
   "execution_count": 6,
   "id": "d0c7e6b8",
   "metadata": {
    "colab": {
     "base_uri": "https://localhost:8080/",
     "height": 265
    },
    "id": "7138bc81",
    "outputId": "cff6fdbf-0b1a-4a2f-b9cc-d969ed4909ef"
   },
   "outputs": [
    {
     "data": {
      "image/png": "[encoded data removed]",
      "text/plain": [
       "<Figure size 432x288 with 1 Axes>"
      ]
     },
     "metadata": {
      "needs_background": "light"
     },
     "output_type": "display_data"
    }
   ],
   "source": [
    "plt.imshow(X_train_ori[123])\n",
    "plt.show()"
   ]
  },
  {
   "cell_type": "markdown",
   "id": "da4d095c",
   "metadata": {
    "id": "3d65ca12"
   },
   "source": [
    "Xem label của ảnh"
   ]
  },
  {
   "cell_type": "code",
   "execution_count": 7,
   "id": "92493884",
   "metadata": {
    "colab": {
     "base_uri": "https://localhost:8080/"
    },
    "id": "a670621c",
    "outputId": "dc41c69e-cb4f-4281-9ec5-a360c9f3f3fa"
   },
   "outputs": [
    {
     "name": "stdout",
     "output_type": "stream",
     "text": [
      "label của ảnh phía trên là: 7\n"
     ]
    }
   ],
   "source": [
    "print(\"label của ảnh phía trên là:\", y_train_ori[123])"
   ]
  },
  {
   "cell_type": "markdown",
   "id": "c409c25a",
   "metadata": {
    "id": "374e2f34"
   },
   "source": [
    "###  Train Test Split"
   ]
  },
  {
   "cell_type": "code",
   "execution_count": 8,
   "id": "283a3724",
   "metadata": {
    "id": "b1a2212e"
   },
   "outputs": [],
   "source": [
    "X_train, X_valid, y_train, y_valid = train_test_split(\n",
    "    X_train_norm, y_train_ori, test_size=0.1)  "
   ]
  },
  {
   "cell_type": "markdown",
   "id": "9fe27ce5",
   "metadata": {
    "id": "56a22c9f"
   },
   "source": [
    "### Model example"
   ]
  },
  {
   "cell_type": "code",
   "execution_count": 9,
   "id": "be92eb85",
   "metadata": {
    "id": "95e1c5a3"
   },
   "outputs": [],
   "source": [
    "X_test, y_test = X_test_norm, y_test_ori "
   ]
  },
  {
   "cell_type": "markdown",
   "id": "338caa45",
   "metadata": {
    "id": "fc7cfe0f"
   },
   "source": [
    "**CÂU 1: Training một mạng neural net cho tập MNIST theo config đề cho:**"
   ]
  },
  {
   "cell_type": "code",
   "execution_count": 10,
   "id": "57d45746",
   "metadata": {
    "colab": {
     "base_uri": "https://localhost:8080/"
    },
    "id": "00c93f29",
    "outputId": "2b4c8d6b-2cff-4485-f54e-92b68678b0e9"
   },
   "outputs": [
    {
     "name": "stdout",
     "output_type": "stream",
     "text": [
      "input shape (None, 28, 28)\n",
      "inputs_reshaped shape (None, 28, 28, 1)\n",
      "flatten shape:  (None, 784)\n",
      "Model: \"model_1\"\n",
      "_________________________________________________________________\n",
      " Layer (type)                Output Shape              Param #   \n",
      "=================================================================\n",
      " input_1 (InputLayer)        [(None, 28, 28)]          0         \n",
      "                                                                 \n",
      " reshape (Reshape)           (None, 28, 28, 1)         0         \n",
      "                                                                 \n",
      " flatten (Flatten)           (None, 784)               0         \n",
      "                                                                 \n",
      " dense (Dense)               (None, 200)               157000    \n",
      "                                                                 \n",
      " dense_1 (Dense)             (None, 100)               20100     \n",
      "                                                                 \n",
      " dense_2 (Dense)             (None, 50)                5050      \n",
      "                                                                 \n",
      " dense_3 (Dense)             (None, 20)                1020      \n",
      "                                                                 \n",
      " dense_4 (Dense)             (None, 10)                210       \n",
      "                                                                 \n",
      "=================================================================\n",
      "Total params: 183,380\n",
      "Trainable params: 183,380\n",
      "Non-trainable params: 0\n",
      "_________________________________________________________________\n"
     ]
    }
   ],
   "source": [
    "inputs = Input(shape=(28,28)) \n",
    "print(\"input shape\", inputs.shape)\n",
    "inputs_reshaped = Reshape((28,28,1))(inputs) \n",
    "print(\"inputs_reshaped shape\", inputs_reshaped.shape) \n",
    "X=Flatten()(inputs_reshaped)\n",
    "print(\"flatten shape: \", X.shape)\n",
    "X=Dense(units=200, activation=\"relu\")(X)\n",
    "X=Dense(units=100, activation=\"relu\")(X)\n",
    "X=Dense(units=50, activation=\"relu\")(X)\n",
    "X=Dense(units=20, activation=\"relu\")(X) \n",
    "softmax=Dense(units=10, activation=\"softmax\")(X) \n",
    "model=Model(inputs, softmax, name='model_1')\n",
    "\n",
    "# compile model:\n",
    "    # - optimzer: adam \n",
    "    # - loss function: sparse_categorical_crossentropy \n",
    "    # - metrics: accuracy trên top1 \n",
    "\n",
    "model.compile(optimizer='adam', \n",
    "              loss=tf.keras.losses.sparse_categorical_crossentropy,\n",
    "               metrics=[\"accuracy\"]\n",
    "              )\n",
    "model.summary()"
   ]
  },
  {
   "cell_type": "markdown",
   "id": "8fdf3354",
   "metadata": {
    "id": "83c36d4d"
   },
   "source": [
    "- Training"
   ]
  },
  {
   "cell_type": "code",
   "execution_count": 11,
   "id": "c769880a",
   "metadata": {
    "colab": {
     "base_uri": "https://localhost:8080/"
    },
    "id": "624adb87",
    "outputId": "0457621e-f19d-4385-800c-78e706958054"
   },
   "outputs": [
    {
     "name": "stdout",
     "output_type": "stream",
     "text": [
      "Epoch 1/10\n",
      "270/270 [==============================] - 6s 17ms/step - loss: 0.4239 - accuracy: 0.8731 - val_loss: 0.1763 - val_accuracy: 0.9505\n",
      "Epoch 2/10\n",
      "270/270 [==============================] - 4s 16ms/step - loss: 0.1404 - accuracy: 0.9596 - val_loss: 0.1407 - val_accuracy: 0.9603\n",
      "Epoch 3/10\n",
      "270/270 [==============================] - 4s 16ms/step - loss: 0.0945 - accuracy: 0.9717 - val_loss: 0.1123 - val_accuracy: 0.9668\n",
      "Epoch 4/10\n",
      "270/270 [==============================] - 4s 15ms/step - loss: 0.0705 - accuracy: 0.9789 - val_loss: 0.0963 - val_accuracy: 0.9708\n",
      "Epoch 5/10\n",
      "270/270 [==============================] - 3s 12ms/step - loss: 0.0540 - accuracy: 0.9836 - val_loss: 0.0860 - val_accuracy: 0.9742\n",
      "Epoch 6/10\n",
      "270/270 [==============================] - 2s 9ms/step - loss: 0.0412 - accuracy: 0.9875 - val_loss: 0.0899 - val_accuracy: 0.9715\n",
      "Epoch 7/10\n",
      "270/270 [==============================] - 3s 9ms/step - loss: 0.0335 - accuracy: 0.9895 - val_loss: 0.0959 - val_accuracy: 0.9733\n",
      "Epoch 8/10\n",
      "270/270 [==============================] - 3s 9ms/step - loss: 0.0279 - accuracy: 0.9915 - val_loss: 0.0827 - val_accuracy: 0.9763\n",
      "Epoch 9/10\n",
      "270/270 [==============================] - 2s 9ms/step - loss: 0.0207 - accuracy: 0.9935 - val_loss: 0.0888 - val_accuracy: 0.9747\n",
      "Epoch 10/10\n",
      "270/270 [==============================] - 3s 9ms/step - loss: 0.0195 - accuracy: 0.9937 - val_loss: 0.0917 - val_accuracy: 0.9738\n"
     ]
    }
   ],
   "source": [
    "model_fit=model.fit(\n",
    "    X_train, \n",
    "    y_train.reshape(-1,1),\n",
    "    batch_size=200, \n",
    "    epochs=10, \n",
    "    validation_data=(X_valid,y_valid)\n",
    "    ) \n",
    "model.save_weights(\"first_model.h5\")"
   ]
  },
  {
   "cell_type": "markdown",
   "id": "df9d4b37",
   "metadata": {
    "id": "8MqxN-0LySKr"
   },
   "source": [
    "- Testing"
   ]
  },
  {
   "cell_type": "code",
   "execution_count": 12,
   "id": "7bac05b2",
   "metadata": {
    "colab": {
     "base_uri": "https://localhost:8080/"
    },
    "id": "AMPfeMJNyNae",
    "outputId": "7c3e3fd2-1537-4aeb-a0e5-ebd73549c491"
   },
   "outputs": [
    {
     "name": "stdout",
     "output_type": "stream",
     "text": [
      "313/313 [==============================] - 1s 4ms/step - loss: 0.0834 - accuracy: 0.9789\n",
      "Loss trên tập test:  0.08336787670850754  Accuracy trên tập test:  0.9789000153541565\n"
     ]
    }
   ],
   "source": [
    "model.load_weights(\"first_model.h5\")\n",
    "\n",
    "## Đánh giá model trên tập test\n",
    "test_loss, test_acc = model.evaluate(X_test, y_test)\n",
    "print(\"Loss trên tập test: \", test_loss,\" Accuracy trên tập test: \", test_acc) "
   ]
  },
  {
   "cell_type": "markdown",
   "id": "45d6c721",
   "metadata": {
    "id": "ul991o8RIsxD"
   },
   "source": [
    "**CÂU 3: Cách số param# trong câu 1** \n",
    "\n",
    "Các Lớp Dense Layer có số param như sau: \n",
    "(n + 1)* m \n",
    "- n: kích thước input (chiều dài của vector input)\n",
    "- m: số unit trong fully connected layer (và cũng bằng size của vector output)  \n",
    "\n",
    "Input Shape|Output Shape|Số Param \n",
    "-----------|------------| ------ \n",
    "(None, 784)|(None, 200) |(784+1)*200=157000\n",
    "(None, 200)|(None, 100) |(200+1)*100=20100\n",
    "(None, 100)|(None, 50)  |(100+1)*50=5050\n",
    "(None, 50) |(None, 20)  |(50+1)*20=1020\n",
    "(None, 20) |(None, 10)  |(20+1)*10=210\n",
    "\n"
   ]
  },
  {
   "cell_type": "markdown",
   "id": "2f1cb7df",
   "metadata": {
    "id": "ny_ax1ZiJvCp"
   },
   "source": [
    "**CÂU 4:**  Cấu trúc ở câu 1 có thể được áp dụng cho bài toán regression, nhưng ta cần: \n",
    "- Thay đổi cấu trúc lớp cuối thay vì fully connected layer (linear function + activation function) thì chỉ dùng liear function nhưng không dùng activation function.\n",
    "- Thay bằng hàm loss khác dùng cho mô hình Regression như RMSE. "
   ]
  },
  {
   "cell_type": "markdown",
   "id": "996cebda",
   "metadata": {
    "id": "tCS-p_G80vFY"
   },
   "source": [
    "**CÂU 4: Training một mạng neural net cho tập MNIST theo config đề cho:**  "
   ]
  },
  {
   "cell_type": "code",
   "execution_count": 13,
   "id": "ff485ba2",
   "metadata": {
    "colab": {
     "base_uri": "https://localhost:8080/"
    },
    "id": "45qf9RsWB4Dg",
    "outputId": "2af92337-8d6f-4d39-bdda-033bec26d9a3"
   },
   "outputs": [
    {
     "name": "stdout",
     "output_type": "stream",
     "text": [
      "input shape (None, 28, 28)\n",
      "inputs_reshaped shape (None, 28, 28, 1)\n",
      "Model: \"model\"\n",
      "_________________________________________________________________\n",
      " Layer (type)                Output Shape              Param #   \n",
      "=================================================================\n",
      " input_2 (InputLayer)        [(None, 28, 28)]          0         \n",
      "                                                                 \n",
      " reshape_1 (Reshape)         (None, 28, 28, 1)         0         \n",
      "                                                                 \n",
      " conv2d (Conv2D)             (None, 28, 28, 20)        520       \n",
      "                                                                 \n",
      " max_pooling2d (MaxPooling2D  (None, 14, 14, 20)       0         \n",
      " )                                                               \n",
      "                                                                 \n",
      " conv2d_1 (Conv2D)           (None, 10, 10, 20)        10020     \n",
      "                                                                 \n",
      " max_pooling2d_1 (MaxPooling  (None, 5, 5, 20)         0         \n",
      " 2D)                                                             \n",
      "                                                                 \n",
      " flatten_1 (Flatten)         (None, 500)               0         \n",
      "                                                                 \n",
      " dense_5 (Dense)             (None, 40)                20040     \n",
      "                                                                 \n",
      " dense_6 (Dense)             (None, 20)                820       \n",
      "                                                                 \n",
      " dense_7 (Dense)             (None, 10)                210       \n",
      "                                                                 \n",
      "=================================================================\n",
      "Total params: 31,610\n",
      "Trainable params: 31,610\n",
      "Non-trainable params: 0\n",
      "_________________________________________________________________\n"
     ]
    }
   ],
   "source": [
    "inputs = Input(shape=(28,28)) \n",
    "print(\"input shape\", inputs.shape)\n",
    "inputs_reshaped = Reshape((28,28,1))(inputs) \n",
    "print(\"inputs_reshaped shape\", inputs_reshaped.shape) \n",
    "X = Conv2D(20, [5, 5], strides = [1, 1], padding = 'same')(inputs_reshaped)\n",
    "X = MaxPooling2D((2,2), strides = (2, 2))(X) \n",
    "X = Conv2D(20, (5, 5), strides=(1,1))(X)\n",
    "X = MaxPooling2D((2,2), strides = (2, 2))(X)\n",
    "X = Flatten()(X)\n",
    "X=Dense(units=40, activation=\"relu\")(X)      \n",
    "X=Dense(units=20, activation=\"relu\")(X)\n",
    "softmax=Dense(units=10, activation=\"softmax\")(X)  \n",
    "model_2 = Model(inputs,softmax) \n",
    "model_2.summary()"
   ]
  },
  {
   "cell_type": "code",
   "execution_count": 14,
   "id": "aa583d4f",
   "metadata": {
    "colab": {
     "base_uri": "https://localhost:8080/"
    },
    "id": "-JzI-PYYCnZf",
    "outputId": "34203bf3-37b0-4b2f-9586-b1e6c0470784"
   },
   "outputs": [
    {
     "name": "stdout",
     "output_type": "stream",
     "text": [
      "Epoch 1/10\n",
      "540/540 [==============================] - 52s 96ms/step - loss: 0.3199 - accuracy: 0.9033 - val_loss: 0.1136 - val_accuracy: 0.9658\n",
      "Epoch 2/10\n",
      "540/540 [==============================] - 51s 95ms/step - loss: 0.0884 - accuracy: 0.9741 - val_loss: 0.0765 - val_accuracy: 0.9747\n",
      "Epoch 3/10\n",
      "540/540 [==============================] - 52s 96ms/step - loss: 0.0626 - accuracy: 0.9809 - val_loss: 0.0677 - val_accuracy: 0.9785\n",
      "Epoch 4/10\n",
      "540/540 [==============================] - 51s 94ms/step - loss: 0.0504 - accuracy: 0.9849 - val_loss: 0.0682 - val_accuracy: 0.9795\n",
      "Epoch 5/10\n",
      "540/540 [==============================] - 52s 96ms/step - loss: 0.0430 - accuracy: 0.9864 - val_loss: 0.0532 - val_accuracy: 0.9827\n",
      "Epoch 6/10\n",
      "540/540 [==============================] - 54s 100ms/step - loss: 0.0346 - accuracy: 0.9892 - val_loss: 0.0484 - val_accuracy: 0.9843\n",
      "Epoch 7/10\n",
      "540/540 [==============================] - 51s 94ms/step - loss: 0.0303 - accuracy: 0.9904 - val_loss: 0.0532 - val_accuracy: 0.9828\n",
      "Epoch 8/10\n",
      "540/540 [==============================] - 51s 95ms/step - loss: 0.0274 - accuracy: 0.9910 - val_loss: 0.0422 - val_accuracy: 0.9872\n",
      "Epoch 9/10\n",
      "540/540 [==============================] - 50s 93ms/step - loss: 0.0229 - accuracy: 0.9926 - val_loss: 0.0524 - val_accuracy: 0.9838\n",
      "Epoch 10/10\n",
      "540/540 [==============================] - 51s 95ms/step - loss: 0.0207 - accuracy: 0.9930 - val_loss: 0.0562 - val_accuracy: 0.9850\n"
     ]
    }
   ],
   "source": [
    "model_2.compile(optimizer='adam', \n",
    "              loss=tf.keras.losses.sparse_categorical_crossentropy,\n",
    "               metrics=[\"accuracy\"]\n",
    "              )\n",
    "history=model_2.fit(X_train,y_train,\n",
    "                  epochs=10,\n",
    "                  batch_size=100,\n",
    "                  validation_data=(X_valid,y_valid)) "
   ]
  },
  {
   "cell_type": "code",
   "execution_count": 15,
   "id": "0aad4798",
   "metadata": {
    "colab": {
     "base_uri": "https://localhost:8080/"
    },
    "id": "906bc258",
    "outputId": "175e470d-a25d-4ee9-92d4-716b5d10a6d0"
   },
   "outputs": [
    {
     "name": "stdout",
     "output_type": "stream",
     "text": [
      "313/313 [==============================] - 4s 12ms/step - loss: 0.0517 - accuracy: 0.9864\n",
      "\n",
      "Loss = 0.05172465741634369\n",
      "Test Accuracy = 0.9864000082015991\n"
     ]
    }
   ],
   "source": [
    "preds = model_2.evaluate(X_test, y_test)\n",
    "print()\n",
    "print (\"Loss = \" + str(preds[0]))\n",
    "print (\"Test Accuracy = \" + str(preds[1])) "
   ]
  }
 ],
 "metadata": {
  "colab": {
   "collapsed_sections": [],
   "name": "NMMH_TH8_21C29001.ipynb",
   "provenance": []
  },
  "kernelspec": {
   "display_name": "Python 3",
   "language": "python",
   "name": "python3"
  },
  "language_info": {
   "codemirror_mode": {
    "name": "ipython",
    "version": 3
   },
   "file_extension": ".py",
   "mimetype": "text/x-python",
   "name": "python",
   "nbconvert_exporter": "python",
   "pygments_lexer": "ipython3",
   "version": "3.5.6"
  }
 },
 "nbformat": 4,
 "nbformat_minor": 5
}
